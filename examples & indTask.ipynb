{
 "cells": [
  {
   "cell_type": "markdown",
   "id": "ccb01de7",
   "metadata": {
    "pycharm": {
     "name": "#%% md\n"
    }
   },
   "source": [
    "## Индивидуальное задание"
   ]
  },
  {
   "cell_type": "markdown",
   "source": [
    "8. Соседями элемента Aij в матрице назовем элементы Akl с i − 1 ≤ k ≤ i + 1, j - 1 ≤ l ≤ j + 1, (k, l)≠(i, j). Операция сглаживания матрицы дает новую матрицу того же размера, каждый элемент которой получается как среднее арифметическое имеющихся соседей соответствующего элемента исходной матрицы. Построить результат сглаживания заданной вещественной матрицы размером 7 на 7. В сглаженной матрице найти сумму модулей элементов, расположенных ниже главной диагонали."
   ],
   "metadata": {
    "collapsed": false,
    "pycharm": {
     "name": "#%% md\n"
    }
   }
  },
  {
   "cell_type": "markdown",
   "id": "927b268c",
   "metadata": {
    "pycharm": {
     "name": "#%% md\n"
    }
   },
   "source": [
    "1. Создадим исходную матрицу 7*7 и нулевую матрицу для результата сглаживания"
   ]
  },
  {
   "cell_type": "code",
   "execution_count": 382,
   "id": "0334ef08",
   "metadata": {
    "pycharm": {
     "name": "#%%\n"
    }
   },
   "outputs": [
    {
     "name": "stdout",
     "output_type": "stream",
     "text": [
      "Сгенерированная матрица: \n",
      "[[4 3 0 0 2 4 1]\n",
      " [1 4 4 2 1 1 2]\n",
      " [1 4 1 0 3 4 4]\n",
      " [4 4 1 2 0 1 4]\n",
      " [4 3 3 0 2 4 2]\n",
      " [1 2 3 3 1 0 3]\n",
      " [0 4 3 0 1 0 3]]\n"
     ]
    }
   ],
   "source": [
    "# подключение модуля numpy под именем np\n",
    "import numpy as np\n",
    "main_matrix = np.random.randint(0,5,(7,7))\n",
    "print(\"Сгенерированная матрица: \")\n",
    "print(main_matrix)\n",
    "\n",
    "task_matrix = np.zeros((7,7))"
   ]
  },
  {
   "cell_type": "markdown",
   "id": "c2dcf2a9",
   "metadata": {
    "pycharm": {
     "name": "#%% md\n"
    }
   },
   "source": [
    "2. Для прохождения массива будем использовать numpy.ndenumerate. Для поиска соседей используются срезы матрицы. Для правильной работы нахождения среднего соседей, необходимо с помощью конструкций if ввести проверку на первые строку и столбец (если этого не делать, срез возвращает неправильный результат, так как выходит за границу основного массива). Затем с помощью функции sum суммируем элементы новой матрицы(среза), вычтем value(так как оно не относятся к соседям, а является главным элементом) и поделим на число элементов массива(среза) - 1(исключая главный элемент). Таким образом, найдя все средние арифметические значения, построим сглаженную матрицу."
   ]
  },
  {
   "cell_type": "code",
   "execution_count": 381,
   "outputs": [
    {
     "name": "stdout",
     "output_type": "stream",
     "text": [
      "Сглаженная матрица: \n",
      "[[2.33 2.   1.6  1.8  1.6  1.6  1.33]\n",
      " [1.4  1.75 1.25 1.38 1.5  1.25 1.6 ]\n",
      " [2.   1.88 2.38 2.25 2.38 1.75 1.2 ]\n",
      " [1.8  2.   2.25 2.12 2.   1.88 1.6 ]\n",
      " [3.   2.88 2.38 2.38 2.88 2.25 2.8 ]\n",
      " [3.4  2.75 2.62 2.12 2.5  2.   2.2 ]\n",
      " [3.67 2.8  2.4  2.   2.2  2.8  2.  ]]\n"
     ]
    }
   ],
   "source": [
    "for (i,j), value in np.ndenumerate(main_matrix):\n",
    "    # Берем \"срез соседей\" матрицы, текущий элемент будет исключен при расчетах\n",
    "    # Нужна проверка на крайние нулевые столбец и строку для правильного среза\n",
    "    if i == 0 and j ==0:\n",
    "        m = main_matrix[0:i+2, 0:j+2]\n",
    "        mean = (np.sum(m)-value)/(m.size - 1)\n",
    "\n",
    "    elif i == 0:\n",
    "        m = main_matrix[0:i+2, j-1:j+2]\n",
    "        mean = (np.sum(m)-value)/(m.size - 1)\n",
    "\n",
    "    elif j == 0:\n",
    "        m = main_matrix[i-1:i+2, 0:j+2]\n",
    "        mean = (np.sum(m)-value)/(m.size - 1)\n",
    "\n",
    "    else:\n",
    "        m = main_matrix[i-1:i+2, j-1:j+2]\n",
    "        mean = (np.sum(m)-value)/(m.size - 1)\n",
    "    task_matrix[i,j] = round(mean,2)\n",
    "\n",
    "print(\"Сглаженная матрица: \")\n",
    "print(task_matrix)\n"
   ],
   "metadata": {
    "collapsed": false,
    "pycharm": {
     "name": "#%%\n"
    }
   }
  },
  {
   "cell_type": "markdown",
   "source": [
    "3. С помощью функции np.tril вернем копию массива с обнуленными элементами на главной диагонали и выше нее и найдем их сумму."
   ],
   "metadata": {
    "collapsed": false,
    "pycharm": {
     "name": "#%% md\n"
    }
   }
  },
  {
   "cell_type": "code",
   "execution_count": 378,
   "outputs": [
    {
     "name": "stdout",
     "output_type": "stream",
     "text": [
      "Сглаженная матрица с обнуленными значениями выше главной диагонали: \n",
      "[[0.   0.   0.   0.   0.   0.   0.  ]\n",
      " [1.4  0.   0.   0.   0.   0.   0.  ]\n",
      " [2.   1.88 0.   0.   0.   0.   0.  ]\n",
      " [1.8  2.   2.25 0.   0.   0.   0.  ]\n",
      " [3.   2.88 2.38 2.38 0.   0.   0.  ]\n",
      " [3.4  2.75 2.62 2.12 2.5  0.   0.  ]\n",
      " [3.67 2.8  2.4  2.   2.2  2.8  0.  ]]\n",
      "Сумма элементов:  51.23\n"
     ]
    }
   ],
   "source": [
    "task_matrix_null = np.tril(task_matrix, -1)\n",
    "sum_elements = np.sum(task_matrix_null)\n",
    "print(\"Сглаженная матрица с обнуленными значениями на главной диагонали и выше нее: \")\n",
    "print(task_matrix_null)\n",
    "print(\"Сумма элементов: \", sum_elements)"
   ],
   "metadata": {
    "collapsed": false,
    "pycharm": {
     "name": "#%%\n"
    }
   }
  },
  {
   "cell_type": "markdown",
   "id": "3e5d332a",
   "metadata": {
    "pycharm": {
     "name": "#%% md\n"
    }
   },
   "source": [
    "## Проработка примеров"
   ]
  },
  {
   "cell_type": "markdown",
   "id": "1b9becbb",
   "metadata": {
    "pycharm": {
     "name": "#%% md\n"
    }
   },
   "source": [
    "### Доступ к частям многомерного массива"
   ]
  },
  {
   "cell_type": "code",
   "execution_count": 239,
   "id": "365f7246",
   "metadata": {
    "scrolled": false,
    "pycharm": {
     "name": "#%%\n"
    }
   },
   "outputs": [
    {
     "name": "stdout",
     "output_type": "stream",
     "text": [
      "[[1 2 3 4]\n",
      " [5 6 7 8]\n",
      " [9 1 5 7]]\n"
     ]
    }
   ],
   "source": [
    "import numpy as np\n",
    "# Теперь создадим матрицу, с которой будем работать.\n",
    "m = np.matrix('1 2 3 4; 5 6 7 8; 9 1 5 7')\n",
    "print(m)"
   ]
  },
  {
   "cell_type": "code",
   "execution_count": 240,
   "id": "8e1109d2",
   "metadata": {
    "pycharm": {
     "name": "#%%\n"
    }
   },
   "outputs": [
    {
     "data": {
      "text/plain": "5"
     },
     "execution_count": 240,
     "metadata": {},
     "output_type": "execute_result"
    }
   ],
   "source": [
    "m[1, 0]"
   ]
  },
  {
   "cell_type": "code",
   "execution_count": 241,
   "id": "8a01d18d",
   "metadata": {
    "pycharm": {
     "name": "#%%\n"
    }
   },
   "outputs": [
    {
     "data": {
      "text/plain": "matrix([[5, 6, 7, 8]])"
     },
     "execution_count": 241,
     "metadata": {},
     "output_type": "execute_result"
    }
   ],
   "source": [
    "m[1, :]"
   ]
  },
  {
   "cell_type": "code",
   "execution_count": 242,
   "id": "95b4bdc7",
   "metadata": {
    "pycharm": {
     "name": "#%%\n"
    }
   },
   "outputs": [
    {
     "data": {
      "text/plain": "matrix([[3],\n        [7],\n        [5]])"
     },
     "execution_count": 242,
     "metadata": {},
     "output_type": "execute_result"
    }
   ],
   "source": [
    "m[:, 2]"
   ]
  },
  {
   "cell_type": "code",
   "execution_count": 243,
   "id": "85f5375b",
   "metadata": {
    "pycharm": {
     "name": "#%%\n"
    }
   },
   "outputs": [
    {
     "data": {
      "text/plain": "matrix([[7, 8]])"
     },
     "execution_count": 243,
     "metadata": {},
     "output_type": "execute_result"
    }
   ],
   "source": [
    "m[1, 2:]"
   ]
  },
  {
   "cell_type": "code",
   "execution_count": 244,
   "id": "ded17c65",
   "metadata": {
    "pycharm": {
     "name": "#%%\n"
    }
   },
   "outputs": [
    {
     "data": {
      "text/plain": "matrix([[2],\n        [6]])"
     },
     "execution_count": 244,
     "metadata": {},
     "output_type": "execute_result"
    }
   ],
   "source": [
    "m[0:2, 1]"
   ]
  },
  {
   "cell_type": "code",
   "execution_count": 245,
   "id": "7c891b30",
   "metadata": {
    "pycharm": {
     "name": "#%%\n"
    }
   },
   "outputs": [
    {
     "data": {
      "text/plain": "matrix([[1, 2, 4],\n        [5, 6, 8],\n        [9, 1, 7]])"
     },
     "execution_count": 245,
     "metadata": {},
     "output_type": "execute_result"
    }
   ],
   "source": [
    "cols = [0, 1, 3]\n",
    "m[:, cols]"
   ]
  },
  {
   "cell_type": "markdown",
   "id": "3efeda99",
   "metadata": {
    "pycharm": {
     "name": "#%% md\n"
    }
   },
   "source": [
    "### Расчет статистик по данным в массиве"
   ]
  },
  {
   "cell_type": "code",
   "execution_count": 246,
   "id": "58c2b034",
   "metadata": {
    "pycharm": {
     "name": "#%%\n"
    }
   },
   "outputs": [
    {
     "name": "stdout",
     "output_type": "stream",
     "text": [
      "[[1 2 3 4]\n",
      " [5 6 7 8]\n",
      " [9 1 5 7]]\n"
     ]
    }
   ],
   "source": [
    "# Для начала создадим матрицу, которая нам понадобится в работе.\n",
    "m = np.matrix('1 2 3 4; 5 6 7 8; 9 1 5 7')\n",
    "print(m)"
   ]
  },
  {
   "cell_type": "code",
   "execution_count": 247,
   "id": "87cc7d8a",
   "metadata": {
    "pycharm": {
     "name": "#%%\n"
    }
   },
   "outputs": [
    {
     "data": {
      "text/plain": "numpy.matrix"
     },
     "execution_count": 247,
     "metadata": {},
     "output_type": "execute_result"
    }
   ],
   "source": [
    "type(m)"
   ]
  },
  {
   "cell_type": "code",
   "execution_count": 248,
   "id": "1b54470e",
   "metadata": {
    "pycharm": {
     "name": "#%%\n"
    }
   },
   "outputs": [
    {
     "data": {
      "text/plain": "numpy.ndarray"
     },
     "execution_count": 248,
     "metadata": {},
     "output_type": "execute_result"
    }
   ],
   "source": [
    "# Matix можно превратить в ndarray следующим образом:\n",
    "m = np.array(m)\n",
    "type(m)"
   ]
  },
  {
   "cell_type": "code",
   "execution_count": 249,
   "id": "acf03851",
   "metadata": {
    "pycharm": {
     "name": "#%%\n"
    }
   },
   "outputs": [
    {
     "data": {
      "text/plain": "(3, 4)"
     },
     "execution_count": 249,
     "metadata": {},
     "output_type": "execute_result"
    }
   ],
   "source": [
    "#Для определения размерности массива Numpy используйте атрибут shape.\n",
    "m.shape"
   ]
  },
  {
   "cell_type": "code",
   "execution_count": 250,
   "id": "3385eb49",
   "metadata": {
    "pycharm": {
     "name": "#%%\n"
    }
   },
   "outputs": [
    {
     "data": {
      "text/plain": "array([[2, 3],\n       [6, 7]])"
     },
     "execution_count": 250,
     "metadata": {},
     "output_type": "execute_result"
    }
   ],
   "source": [
    "m[0:2, 1:3]"
   ]
  },
  {
   "attachments": {
    "Funkpng.png": {
     "image/png": "[encoded data removed]"
    }
   },
   "cell_type": "markdown",
   "id": "f1ffcd8a",
   "metadata": {
    "pycharm": {
     "name": "#%% md\n"
    }
   },
   "source": [
    "Для расчета той или иной статистики, соответствующую функцию можно вызвать как метод объекта, с которым вы работаете. \n",
    "\n",
    "Функции (методы) для расчета статистик в Numpy:\n",
    "![Funkpng.png](attachment:Funkpng.png)"
   ]
  },
  {
   "cell_type": "code",
   "execution_count": 251,
   "id": "a4a2f8d9",
   "metadata": {
    "pycharm": {
     "name": "#%%\n"
    }
   },
   "outputs": [
    {
     "data": {
      "text/plain": "9"
     },
     "execution_count": 251,
     "metadata": {},
     "output_type": "execute_result"
    }
   ],
   "source": [
    " m.max()"
   ]
  },
  {
   "cell_type": "code",
   "execution_count": 252,
   "id": "920c4076",
   "metadata": {
    "pycharm": {
     "name": "#%%\n"
    }
   },
   "outputs": [
    {
     "data": {
      "text/plain": "9"
     },
     "execution_count": 252,
     "metadata": {},
     "output_type": "execute_result"
    }
   ],
   "source": [
    " np.max(m)"
   ]
  },
  {
   "cell_type": "code",
   "execution_count": 253,
   "id": "0298fa48",
   "metadata": {
    "pycharm": {
     "name": "#%%\n"
    }
   },
   "outputs": [
    {
     "data": {
      "text/plain": "9"
     },
     "execution_count": 253,
     "metadata": {},
     "output_type": "execute_result"
    }
   ],
   "source": [
    " m.max()"
   ]
  },
  {
   "cell_type": "code",
   "execution_count": 254,
   "id": "dfa2c91b",
   "metadata": {
    "pycharm": {
     "name": "#%%\n"
    }
   },
   "outputs": [
    {
     "data": {
      "text/plain": "array([4, 8, 9])"
     },
     "execution_count": 254,
     "metadata": {},
     "output_type": "execute_result"
    }
   ],
   "source": [
    " m.max(axis=1)"
   ]
  },
  {
   "cell_type": "code",
   "execution_count": 255,
   "id": "73fad834",
   "metadata": {
    "pycharm": {
     "name": "#%%\n"
    }
   },
   "outputs": [
    {
     "data": {
      "text/plain": "array([9, 6, 7, 8])"
     },
     "execution_count": 255,
     "metadata": {},
     "output_type": "execute_result"
    }
   ],
   "source": [
    " m.max(axis=0)"
   ]
  },
  {
   "cell_type": "code",
   "execution_count": 256,
   "id": "e254f903",
   "metadata": {
    "pycharm": {
     "name": "#%%\n"
    }
   },
   "outputs": [
    {
     "data": {
      "text/plain": "4.833333333333333"
     },
     "execution_count": 256,
     "metadata": {},
     "output_type": "execute_result"
    }
   ],
   "source": [
    "m.mean()"
   ]
  },
  {
   "cell_type": "code",
   "execution_count": 257,
   "id": "eafe2368",
   "metadata": {
    "pycharm": {
     "name": "#%%\n"
    }
   },
   "outputs": [
    {
     "data": {
      "text/plain": "array([2.5, 6.5, 5.5])"
     },
     "execution_count": 257,
     "metadata": {},
     "output_type": "execute_result"
    }
   ],
   "source": [
    " m.mean(axis=1)"
   ]
  },
  {
   "cell_type": "code",
   "execution_count": 258,
   "id": "7bbd930b",
   "metadata": {
    "pycharm": {
     "name": "#%%\n"
    }
   },
   "outputs": [
    {
     "data": {
      "text/plain": "58"
     },
     "execution_count": 258,
     "metadata": {},
     "output_type": "execute_result"
    }
   ],
   "source": [
    "m.sum()"
   ]
  },
  {
   "cell_type": "code",
   "execution_count": 259,
   "id": "505e12f7",
   "metadata": {
    "pycharm": {
     "name": "#%%\n"
    }
   },
   "outputs": [
    {
     "data": {
      "text/plain": "array([15,  9, 15, 19])"
     },
     "execution_count": 259,
     "metadata": {},
     "output_type": "execute_result"
    }
   ],
   "source": [
    "m.sum(axis=0)"
   ]
  },
  {
   "cell_type": "markdown",
   "id": "a8ef0d9f",
   "metadata": {
    "pycharm": {
     "name": "#%% md\n"
    }
   },
   "source": [
    "### Использование boolean массива для доступа к ndarray"
   ]
  },
  {
   "cell_type": "code",
   "execution_count": 260,
   "id": "a8b7a232",
   "metadata": {
    "pycharm": {
     "name": "#%%\n"
    }
   },
   "outputs": [],
   "source": [
    "nums = np.array([1, 2, 3, 4, 5, 6, 7, 8, 9, 10])\n",
    "letters = np.array(['a', 'b', 'c', 'd', 'a', 'e', 'b'])"
   ]
  },
  {
   "cell_type": "code",
   "execution_count": 261,
   "id": "4f59f77a",
   "metadata": {
    "pycharm": {
     "name": "#%%\n"
    }
   },
   "outputs": [
    {
     "name": "stdout",
     "output_type": "stream",
     "text": [
      "False\n"
     ]
    }
   ],
   "source": [
    "b = 5 > 7\n",
    "print(b)"
   ]
  },
  {
   "cell_type": "code",
   "execution_count": 262,
   "id": "f40a08b8",
   "metadata": {
    "pycharm": {
     "name": "#%%\n"
    }
   },
   "outputs": [
    {
     "data": {
      "text/plain": "array([ True,  True,  True,  True, False, False, False, False, False,\n       False])"
     },
     "execution_count": 262,
     "metadata": {},
     "output_type": "execute_result"
    }
   ],
   "source": [
    "# В этом примере мы создали boolean массив, в котором на месте \n",
    "# элементов из nums, которые меньше пяти стоит True, \n",
    "# в остальных случаях – False.\n",
    "less_then_5 = nums < 5\n",
    "less_then_5"
   ]
  },
  {
   "cell_type": "code",
   "execution_count": 263,
   "id": "adcd0cb5",
   "metadata": {
    "pycharm": {
     "name": "#%%\n"
    }
   },
   "outputs": [
    {
     "data": {
      "text/plain": "array([ True, False, False, False,  True, False, False])"
     },
     "execution_count": 263,
     "metadata": {},
     "output_type": "execute_result"
    }
   ],
   "source": [
    "# Построим массив, в котором значение True будут иметь элементы, \n",
    "# чей индекс совпадает с индексами, на которых стоит символ ‘a’ \n",
    "# в массиве letters.\n",
    "pos_a = letters == 'a'\n",
    "pos_a"
   ]
  },
  {
   "cell_type": "code",
   "execution_count": 264,
   "id": "735aa55d",
   "metadata": {
    "pycharm": {
     "name": "#%%\n"
    }
   },
   "outputs": [
    {
     "data": {
      "text/plain": "array([1, 2, 3, 4])"
     },
     "execution_count": 264,
     "metadata": {},
     "output_type": "execute_result"
    }
   ],
   "source": [
    "# Самым замечательным в использовании boolean массивов при работе \n",
    "# с ndarray является то, что их можно применять для построения выборок.\n",
    "less_then_5 = nums < 5\n",
    "less_then_5\n",
    "nums[less_then_5]"
   ]
  },
  {
   "cell_type": "code",
   "execution_count": 265,
   "id": "adfbb3d2",
   "metadata": {
    "pycharm": {
     "name": "#%%\n"
    }
   },
   "outputs": [
    {
     "name": "stdout",
     "output_type": "stream",
     "text": [
      "[[1 2 3 4]\n",
      " [5 6 7 8]\n",
      " [9 1 5 7]]\n"
     ]
    }
   ],
   "source": [
    "m = np.matrix('1 2 3 4; 5 6 7 8; 9 1 5 7')\n",
    "print(m)"
   ]
  },
  {
   "cell_type": "code",
   "execution_count": 266,
   "id": "c38a5ddf",
   "metadata": {
    "pycharm": {
     "name": "#%%\n"
    }
   },
   "outputs": [
    {
     "data": {
      "text/plain": "matrix([[False, False,  True,  True],\n        [ True,  True,  True, False],\n        [False, False,  True,  True]])"
     },
     "execution_count": 266,
     "metadata": {},
     "output_type": "execute_result"
    }
   ],
   "source": [
    "mod_m = np.logical_and(m>=3, m<=7)\n",
    "mod_m"
   ]
  },
  {
   "cell_type": "code",
   "execution_count": 267,
   "id": "4e628eff",
   "metadata": {
    "pycharm": {
     "name": "#%%\n"
    }
   },
   "outputs": [
    {
     "data": {
      "text/plain": "matrix([[3, 4, 5, 6, 7, 5, 7]])"
     },
     "execution_count": 267,
     "metadata": {},
     "output_type": "execute_result"
    }
   ],
   "source": [
    "m[mod_m]"
   ]
  },
  {
   "cell_type": "code",
   "execution_count": 268,
   "id": "a54799b7",
   "metadata": {
    "pycharm": {
     "name": "#%%\n"
    }
   },
   "outputs": [
    {
     "data": {
      "text/plain": "array([1, 2, 3, 4])"
     },
     "execution_count": 268,
     "metadata": {},
     "output_type": "execute_result"
    }
   ],
   "source": [
    "nums = np.array([1, 2, 3, 4, 5, 6, 7, 8, 9, 10])\n",
    "nums[nums < 5]"
   ]
  },
  {
   "cell_type": "code",
   "execution_count": 269,
   "id": "ec683913",
   "metadata": {
    "pycharm": {
     "name": "#%%\n"
    }
   },
   "outputs": [
    {
     "name": "stdout",
     "output_type": "stream",
     "text": [
      "[10 10 10 10  5  6  7  8  9 10]\n"
     ]
    }
   ],
   "source": [
    "nums[nums < 5] = 10\n",
    "print(nums)"
   ]
  },
  {
   "cell_type": "code",
   "execution_count": 270,
   "id": "20d055c1",
   "metadata": {
    "pycharm": {
     "name": "#%%\n"
    }
   },
   "outputs": [
    {
     "name": "stdout",
     "output_type": "stream",
     "text": [
      "[[ 1  2  3  4]\n",
      " [ 5  6  7 25]\n",
      " [25  1  5  7]]\n"
     ]
    }
   ],
   "source": [
    "m[m > 7] = 25\n",
    "print(m)"
   ]
  },
  {
   "cell_type": "markdown",
   "id": "838b2688",
   "metadata": {
    "pycharm": {
     "name": "#%% md\n"
    }
   },
   "source": [
    "### Дополнительные функции"
   ]
  },
  {
   "cell_type": "code",
   "execution_count": 271,
   "id": "aa36454e",
   "metadata": {
    "pycharm": {
     "name": "#%%\n"
    }
   },
   "outputs": [
    {
     "data": {
      "text/plain": "array([0, 1, 2, 3, 4, 5, 6, 7, 8, 9])"
     },
     "execution_count": 271,
     "metadata": {},
     "output_type": "execute_result"
    }
   ],
   "source": [
    "np.arange(10)"
   ]
  },
  {
   "cell_type": "code",
   "execution_count": 272,
   "id": "a500efc0",
   "metadata": {
    "pycharm": {
     "name": "#%%\n"
    }
   },
   "outputs": [
    {
     "data": {
      "text/plain": "array([ 5,  6,  7,  8,  9, 10, 11])"
     },
     "execution_count": 272,
     "metadata": {},
     "output_type": "execute_result"
    }
   ],
   "source": [
    "np.arange(5, 12)"
   ]
  },
  {
   "cell_type": "code",
   "execution_count": 273,
   "id": "de4e18c7",
   "metadata": {
    "pycharm": {
     "name": "#%%\n"
    }
   },
   "outputs": [
    {
     "data": {
      "text/plain": "array([1. , 1.5, 2. , 2.5, 3. , 3.5, 4. , 4.5])"
     },
     "execution_count": 273,
     "metadata": {},
     "output_type": "execute_result"
    }
   ],
   "source": [
    "np.arange(1, 5, 0.5)"
   ]
  },
  {
   "cell_type": "code",
   "execution_count": 274,
   "id": "b1dcab0f",
   "metadata": {
    "pycharm": {
     "name": "#%%\n"
    }
   },
   "outputs": [
    {
     "data": {
      "text/plain": "matrix([[1, 2],\n        [3, 4]])"
     },
     "execution_count": 274,
     "metadata": {},
     "output_type": "execute_result"
    }
   ],
   "source": [
    "a = [[1, 2], [3, 4]]\n",
    "np.matrix(a)"
   ]
  },
  {
   "cell_type": "code",
   "execution_count": 275,
   "id": "ecfd7fa7",
   "metadata": {
    "pycharm": {
     "name": "#%%\n"
    }
   },
   "outputs": [
    {
     "data": {
      "text/plain": "matrix([[5, 6],\n        [7, 8]])"
     },
     "execution_count": 275,
     "metadata": {},
     "output_type": "execute_result"
    }
   ],
   "source": [
    "b = np.array([[5, 6], [7, 8]])\n",
    "np.matrix(b)\n"
   ]
  },
  {
   "cell_type": "code",
   "execution_count": 276,
   "id": "5b34df1f",
   "metadata": {
    "pycharm": {
     "name": "#%%\n"
    }
   },
   "outputs": [
    {
     "data": {
      "text/plain": "matrix([[1, 2],\n        [3, 4]])"
     },
     "execution_count": 276,
     "metadata": {},
     "output_type": "execute_result"
    }
   ],
   "source": [
    "np.matrix('[1, 2; 3, 4]')"
   ]
  },
  {
   "cell_type": "code",
   "execution_count": 277,
   "id": "21c0eb69",
   "metadata": {
    "pycharm": {
     "name": "#%%\n"
    }
   },
   "outputs": [
    {
     "data": {
      "text/plain": "array([[0., 0., 0., 0.],\n       [0., 0., 0., 0.],\n       [0., 0., 0., 0.]])"
     },
     "execution_count": 277,
     "metadata": {},
     "output_type": "execute_result"
    }
   ],
   "source": [
    "np.zeros((3, 4))"
   ]
  },
  {
   "cell_type": "code",
   "execution_count": 278,
   "id": "ed8b81e2",
   "metadata": {
    "pycharm": {
     "name": "#%%\n"
    }
   },
   "outputs": [
    {
     "data": {
      "text/plain": "array([[1., 0., 0.],\n       [0., 1., 0.],\n       [0., 0., 1.]])"
     },
     "execution_count": 278,
     "metadata": {},
     "output_type": "execute_result"
    }
   ],
   "source": [
    "np.eye(3)"
   ]
  },
  {
   "cell_type": "code",
   "execution_count": 279,
   "id": "7f68a0ce",
   "metadata": {
    "pycharm": {
     "name": "#%%\n"
    }
   },
   "outputs": [
    {
     "data": {
      "text/plain": "array([[1, 2, 3],\n       [4, 5, 6],\n       [7, 8, 9]])"
     },
     "execution_count": 279,
     "metadata": {},
     "output_type": "execute_result"
    }
   ],
   "source": [
    "A = np.array([[1, 2, 3], [4, 5, 6], [7, 8, 9]])\n",
    "A"
   ]
  },
  {
   "cell_type": "code",
   "execution_count": 280,
   "id": "01d3bd46",
   "metadata": {
    "pycharm": {
     "name": "#%%\n"
    }
   },
   "outputs": [
    {
     "data": {
      "text/plain": "array([1, 2, 3, 4, 5, 6, 7, 8, 9])"
     },
     "execution_count": 280,
     "metadata": {},
     "output_type": "execute_result"
    }
   ],
   "source": [
    "# Функция np.ravel() используется для того, чтобы преобразовать \n",
    "# матрицу в одномерный вектор.\n",
    "np.ravel(A)"
   ]
  },
  {
   "cell_type": "code",
   "execution_count": 281,
   "id": "8e3d9cce",
   "metadata": {
    "pycharm": {
     "name": "#%%\n"
    }
   },
   "outputs": [
    {
     "data": {
      "text/plain": "array([1, 2, 3, 4, 5, 6, 7, 8, 9])"
     },
     "execution_count": 281,
     "metadata": {},
     "output_type": "execute_result"
    }
   ],
   "source": [
    "# ‘C’, что означает – массив будет собираться из строк исходной матрицы.\n",
    "np.ravel(A, order='C')"
   ]
  },
  {
   "cell_type": "code",
   "execution_count": 282,
   "id": "0ae456d5",
   "metadata": {
    "pycharm": {
     "name": "#%%\n"
    }
   },
   "outputs": [
    {
     "data": {
      "text/plain": "array([1, 4, 7, 2, 5, 8, 3, 6, 9])"
     },
     "execution_count": 282,
     "metadata": {},
     "output_type": "execute_result"
    }
   ],
   "source": [
    "# Если указать order=‘F‘,\n",
    "# то в качестве элементов для сборки будут выступать столбцы матрицы.\n",
    "np.ravel(A, order='F')"
   ]
  },
  {
   "cell_type": "code",
   "execution_count": 283,
   "id": "6eba9108",
   "metadata": {
    "pycharm": {
     "name": "#%%\n"
    }
   },
   "outputs": [
    {
     "data": {
      "text/plain": "array([ 0. ,  0.1, 20. ,  0.3, 40. ,  0.5, 60. ,  0.7, 80. ,  0.9])"
     },
     "execution_count": 283,
     "metadata": {},
     "output_type": "execute_result"
    }
   ],
   "source": [
    "a = np.array([0, 1, 2, 3, 4, 5, 6, 7, 8, 9])\n",
    "np.where(a % 2 == 0, a * 10, a / 10)"
   ]
  },
  {
   "cell_type": "code",
   "execution_count": 284,
   "id": "866bc603",
   "metadata": {
    "pycharm": {
     "name": "#%%\n"
    }
   },
   "outputs": [
    {
     "data": {
      "text/plain": "array([0.88036102, 0.58655767, 0.64546116, 0.52337534, 0.25759443,\n       0.82525385, 0.40154891, 0.23465085, 0.27954979, 0.83511349])"
     },
     "execution_count": 284,
     "metadata": {},
     "output_type": "execute_result"
    }
   ],
   "source": [
    "a = np.random.rand(10)\n",
    "a"
   ]
  },
  {
   "cell_type": "code",
   "execution_count": 285,
   "id": "74d77395",
   "metadata": {
    "pycharm": {
     "name": "#%%\n"
    }
   },
   "outputs": [
    {
     "data": {
      "text/plain": "array([ True,  True,  True,  True, False,  True, False, False, False,\n        True])"
     },
     "execution_count": 285,
     "metadata": {},
     "output_type": "execute_result"
    }
   ],
   "source": [
    "np.where(a > 0.5, True, False)"
   ]
  },
  {
   "cell_type": "code",
   "execution_count": 286,
   "id": "3e839b82",
   "metadata": {
    "pycharm": {
     "name": "#%%\n"
    }
   },
   "outputs": [
    {
     "data": {
      "text/plain": "array([ 1,  1,  1,  1, -1,  1, -1, -1, -1,  1])"
     },
     "execution_count": 286,
     "metadata": {},
     "output_type": "execute_result"
    }
   ],
   "source": [
    "np.where(a > 0.5, 1, -1)"
   ]
  },
  {
   "cell_type": "markdown",
   "id": "68734396",
   "metadata": {
    "pycharm": {
     "name": "#%% md\n"
    }
   },
   "source": [
    "np.meshgrid()\n",
    "\n",
    "Функция meshgrid() позволят получить матрицу координат из координатных векторов. Если,\n",
    "например, у нас есть два одномерных вектора координат, то передав их в качестве аргументов в\n",
    "meshgrid() мы получим две матрицы, в которой элементы будут составлять пары, заполняя все\n",
    "пространство, определяемое этими векторами. Проще посмотреть это на примере."
   ]
  },
  {
   "cell_type": "code",
   "execution_count": 287,
   "id": "e26ac0bd",
   "metadata": {
    "pycharm": {
     "name": "#%%\n"
    }
   },
   "outputs": [
    {
     "data": {
      "text/plain": "array([0.  , 0.25, 0.5 , 0.75, 1.  ])"
     },
     "execution_count": 287,
     "metadata": {},
     "output_type": "execute_result"
    }
   ],
   "source": [
    "x = np.linspace(0, 1, 5)\n",
    "x"
   ]
  },
  {
   "cell_type": "code",
   "execution_count": 288,
   "id": "8c359a7b",
   "metadata": {
    "scrolled": true,
    "pycharm": {
     "name": "#%%\n"
    }
   },
   "outputs": [
    {
     "data": {
      "text/plain": "array([0. , 0.5, 1. , 1.5, 2. ])"
     },
     "execution_count": 288,
     "metadata": {},
     "output_type": "execute_result"
    }
   ],
   "source": [
    "y = np.linspace(0, 2, 5)\n",
    "y"
   ]
  },
  {
   "cell_type": "code",
   "execution_count": 289,
   "id": "74339904",
   "metadata": {
    "pycharm": {
     "name": "#%%\n"
    }
   },
   "outputs": [
    {
     "data": {
      "text/plain": "array([[0.  , 0.25, 0.5 , 0.75, 1.  ],\n       [0.  , 0.25, 0.5 , 0.75, 1.  ],\n       [0.  , 0.25, 0.5 , 0.75, 1.  ],\n       [0.  , 0.25, 0.5 , 0.75, 1.  ],\n       [0.  , 0.25, 0.5 , 0.75, 1.  ]])"
     },
     "execution_count": 289,
     "metadata": {},
     "output_type": "execute_result"
    }
   ],
   "source": [
    "xg, yg = np.meshgrid(x, y)\n",
    "xg"
   ]
  },
  {
   "cell_type": "code",
   "execution_count": 290,
   "id": "4e6a6cb7",
   "metadata": {
    "pycharm": {
     "name": "#%%\n"
    }
   },
   "outputs": [
    {
     "data": {
      "text/plain": "array([[0. , 0. , 0. , 0. , 0. ],\n       [0.5, 0.5, 0.5, 0.5, 0.5],\n       [1. , 1. , 1. , 1. , 1. ],\n       [1.5, 1.5, 1.5, 1.5, 1.5],\n       [2. , 2. , 2. , 2. , 2. ]])"
     },
     "execution_count": 290,
     "metadata": {},
     "output_type": "execute_result"
    }
   ],
   "source": [
    "yg"
   ]
  },
  {
   "cell_type": "code",
   "execution_count": 291,
   "id": "aabf5876",
   "metadata": {
    "pycharm": {
     "name": "#%%\n"
    }
   },
   "outputs": [
    {
     "data": {
      "text/plain": "[<matplotlib.lines.Line2D at 0x1a64479a550>,\n <matplotlib.lines.Line2D at 0x1a64479a5e0>,\n <matplotlib.lines.Line2D at 0x1a64479a6d0>,\n <matplotlib.lines.Line2D at 0x1a64479a7c0>,\n <matplotlib.lines.Line2D at 0x1a64479a8b0>]"
     },
     "execution_count": 291,
     "metadata": {},
     "output_type": "execute_result"
    },
    {
     "data": {
      "text/plain": "<Figure size 640x480 with 1 Axes>",
      "image/png": "[encoded data removed]"
     },
     "metadata": {},
     "output_type": "display_data"
    }
   ],
   "source": [
    "import matplotlib.pyplot as plt\n",
    "%matplotlib inline\n",
    "plt.plot(xg, yg, color=\"r\", marker=\"*\", linestyle=\"none\")"
   ]
  },
  {
   "cell_type": "code",
   "execution_count": 292,
   "id": "090adf5a",
   "metadata": {
    "pycharm": {
     "name": "#%%\n"
    }
   },
   "outputs": [
    {
     "data": {
      "text/plain": "array([6, 2, 4, 3, 5, 1, 0])"
     },
     "execution_count": 292,
     "metadata": {},
     "output_type": "execute_result"
    }
   ],
   "source": [
    "np.random.permutation(7)"
   ]
  },
  {
   "cell_type": "code",
   "execution_count": 293,
   "id": "5fd9d9f8",
   "metadata": {
    "pycharm": {
     "name": "#%%\n"
    }
   },
   "outputs": [
    {
     "data": {
      "text/plain": "array(['b', 'c', 'e', 'd', 'a'], dtype='<U1')"
     },
     "execution_count": 293,
     "metadata": {},
     "output_type": "execute_result"
    }
   ],
   "source": [
    "a = ['a', 'b', 'c', 'd', 'e']\n",
    "np.random.permutation(a)"
   ]
  },
  {
   "cell_type": "code",
   "execution_count": 294,
   "id": "2e42ca08",
   "metadata": {
    "pycharm": {
     "name": "#%%\n"
    }
   },
   "outputs": [
    {
     "data": {
      "text/plain": "array([ 0. ,  2.5,  5. ,  7.5, 10. ])"
     },
     "execution_count": 294,
     "metadata": {},
     "output_type": "execute_result"
    }
   ],
   "source": [
    "arr = np.linspace(0, 10, 5)\n",
    "arr"
   ]
  },
  {
   "cell_type": "code",
   "execution_count": 295,
   "id": "fee92151",
   "metadata": {
    "pycharm": {
     "name": "#%%\n"
    }
   },
   "outputs": [
    {
     "data": {
      "text/plain": "array([ 0. ,  5. ,  2.5, 10. ,  7.5])"
     },
     "execution_count": 295,
     "metadata": {},
     "output_type": "execute_result"
    }
   ],
   "source": [
    "arr_mix = np.random.permutation(arr)\n",
    "arr_mix"
   ]
  },
  {
   "cell_type": "code",
   "execution_count": 296,
   "id": "95e3d86d",
   "metadata": {
    "pycharm": {
     "name": "#%%\n"
    }
   },
   "outputs": [
    {
     "data": {
      "text/plain": "array([0, 1, 4, 2, 3])"
     },
     "execution_count": 296,
     "metadata": {},
     "output_type": "execute_result"
    }
   ],
   "source": [
    "index_mix = np.random.permutation(len(arr_mix))\n",
    "index_mix"
   ]
  },
  {
   "cell_type": "code",
   "execution_count": 297,
   "id": "88d682e8",
   "metadata": {
    "pycharm": {
     "name": "#%%\n"
    }
   },
   "outputs": [
    {
     "data": {
      "text/plain": "array([ 0. ,  2.5, 10. ,  5. ,  7.5])"
     },
     "execution_count": 297,
     "metadata": {},
     "output_type": "execute_result"
    }
   ],
   "source": [
    "arr[index_mix]"
   ]
  }
 ],
 "metadata": {
  "kernelspec": {
   "display_name": "Python 3 (ipykernel)",
   "language": "python",
   "name": "python3"
  },
  "language_info": {
   "codemirror_mode": {
    "name": "ipython",
    "version": 3
   },
   "file_extension": ".py",
   "mimetype": "text/x-python",
   "name": "python",
   "nbconvert_exporter": "python",
   "pygments_lexer": "ipython3",
   "version": "3.9.13"
  }
 },
 "nbformat": 4,
 "nbformat_minor": 5
}