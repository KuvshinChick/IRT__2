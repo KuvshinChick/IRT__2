{
 "cells": [
  {
   "cell_type": "markdown",
   "id": "6eee5b5d",
   "metadata": {},
   "source": [
    "## Индивидуальное задание - Вычислительная задача"
   ]
  },
  {
   "cell_type": "markdown",
   "id": "4629d607",
   "metadata": {},
   "source": [
    "Условие задачи:\n",
    "\n",
    "В баллоне находится кислород при давлении 4 МПа и температуре 42° C. Определить плотность кислорода в баллоне.\n",
    "\n",
    "Дано:\n",
    "\n",
    "p = 4 МПа\n",
    "\n",
    "t = 42` С\n",
    "\n",
    "ρ = ?\n",
    "\n",
    "Решение задачи:\n",
    "Запишем уравнение Клапейрона-Менделеева:\n",
    "$$\n",
    "\\begin{align}\n",
    "pV = \\frac{m}{M}\\times{R}{T} \\\\\n",
    "\\end{align}\n",
    "$$\n",
    "\n",
    "Поделим обе части уравнения на объем:\n",
    "$$\n",
    "\\begin{align}\n",
    "p = \\frac{m}{MV}\\times{R}{T} \\\\\n",
    "\\end{align}\n",
    "$$\n",
    "Отношение массы газа m к объему газа V в правой части есть плотность газа ρ, поэтому:\n",
    "$$\n",
    "\\begin{align}\n",
    "p = \\frac{ρ}{M}\\times{R}{T} \\\\\n",
    "\\end{align}\n",
    "$$\n",
    "Выразим искомую плотность ρ:\n",
    "$$\n",
    "\\begin{align}\n",
    "ρ = \\frac{pM}{RT} \\\\\n",
    "\\end{align}\n",
    "$$\n",
    "\n",
    "Молярная масса кислорода M равна 0,032 кг/моль, универсальная газовая постоянная R – 8,31 Дж/(моль·К). Переведем температуру газа в шкалу абсолютных температур:\n",
    "$$\n",
    "\\begin{align}\n",
    "42\\ C = 315 K\n",
    "\\end{align}\n",
    "$$\n"
   ]
  },
  {
   "cell_type": "code",
   "execution_count": 4,
   "id": "ed19f64a",
   "metadata": {},
   "outputs": [
    {
     "name": "stdout",
     "output_type": "stream",
     "text": [
      "48.89882146199835 кг/м^3\n"
     ]
    }
   ],
   "source": [
    "# Вычисление\n",
    "p = 4 \n",
    "t = 315\n",
    "ρ = 4*10**6*0.032/8.31/315\n",
    "print(ρ, \"кг/м^3\")"
   ]
  }
 ],
 "metadata": {
  "kernelspec": {
   "display_name": "Python 3 (ipykernel)",
   "language": "python",
   "name": "python3"
  },
  "language_info": {
   "codemirror_mode": {
    "name": "ipython",
    "version": 3
   },
   "file_extension": ".py",
   "mimetype": "text/x-python",
   "name": "python",
   "nbconvert_exporter": "python",
   "pygments_lexer": "ipython3",
   "version": "3.9.13"
  }
 },
 "nbformat": 4,
 "nbformat_minor": 5
}
