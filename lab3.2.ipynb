{
 "cells": [
  {
   "cell_type": "markdown",
   "metadata": {},
   "source": [
    "\n",
    "\n",
    "# Лабораторная работа 3.2. Знакомство с NumPy\n",
    "Библиотека NumPy -- быстрая библиотека для математики в Python, основная структура данных -- массив `numpy.array`:"
   ]
  },
  {
   "cell_type": "markdown",
   "metadata": {},
   "source": [
    "![](https://media.giphy.com/media/3o7btPCcdNniyf0ArS/giphy.gif)"
   ]
  },
  {
   "cell_type": "code",
   "execution_count": 57,
   "metadata": {
    "jupyter": {
     "outputs_hidden": true
    }
   },
   "outputs": [],
   "source": [
    "# подключение модуля numpy под именем np\n",
    "import numpy as np"
   ]
  },
  {
   "cell_type": "code",
   "execution_count": 58,
   "metadata": {},
   "outputs": [
    {
     "name": "stdout",
     "output_type": "stream",
     "text": [
      "a = [1 2 3 4 5]\n",
      "b = [0.1 0.2 0.3 0.4 0.5]\n"
     ]
    }
   ],
   "source": [
    "# основная структура данных - массив\n",
    "a = np.array([1, 2, 3, 4, 5])\n",
    "b = np.array([0.1, 0.2, 0.3, 0.4, 0.5])\n",
    "\n",
    "print(\"a =\", a)\n",
    "print(\"b =\", b)"
   ]
  },
  {
   "cell_type": "markdown",
   "metadata": {},
   "source": [
    "Создайте массив с 5 любыми числами:"
   ]
  },
  {
   "cell_type": "code",
   "execution_count": 59,
   "metadata": {},
   "outputs": [
    {
     "data": {
      "text/plain": [
       "array([ 9,  1, 10,  9,  0])"
      ]
     },
     "execution_count": 59,
     "metadata": {},
     "output_type": "execute_result"
    }
   ],
   "source": [
    "a = np.random.randint(20, size=5)\n",
    "a"
   ]
  },
  {
   "cell_type": "markdown",
   "metadata": {},
   "source": [
    "Арифметические операции, в отличие от операций над списками, применяются поэлементно:"
   ]
  },
  {
   "cell_type": "code",
   "execution_count": 60,
   "metadata": {
    "scrolled": true
   },
   "outputs": [
    {
     "name": "stdout",
     "output_type": "stream",
     "text": [
      "list1: [1, 2, 3]\n",
      "\tlist1 * 3: [1, 2, 3, 1, 2, 3, 1, 2, 3]\n",
      "\tlist1 + [1]: [1, 2, 3, 1]\n",
      "array1: [1 2 3]\n",
      "\tarray1 * 3: [3 6 9]\n",
      "\tarray1 + 1: [2 3 4]\n"
     ]
    }
   ],
   "source": [
    "list1 = [1, 2, 3]\n",
    "array1 = np.array([1, 2, 3])\n",
    "\n",
    "print(\"list1:\", list1)\n",
    "print('\\tlist1 * 3:', list1 * 3)\n",
    "print('\\tlist1 + [1]:', list1 + [1])\n",
    "\n",
    "print('array1:', array1)\n",
    "print('\\tarray1 * 3:', array1 * 3)\n",
    "print('\\tarray1 + 1:', array1 + 1)"
   ]
  },
  {
   "cell_type": "markdown",
   "metadata": {},
   "source": [
    "Создайте массив из 5 чисел. Возведите каждый элемент массива в степень 3"
   ]
  },
  {
   "cell_type": "code",
   "execution_count": 61,
   "metadata": {
    "jupyter": {
     "outputs_hidden": true
    }
   },
   "outputs": [
    {
     "name": "stdout",
     "output_type": "stream",
     "text": [
      "[ 4  6 18 13 18]\n",
      "[  64  216 5832 2197 5832]\n"
     ]
    }
   ],
   "source": [
    "a = np.random.randint(20, size=5)\n",
    "print(a)\n",
    "print(a**3)"
   ]
  },
  {
   "cell_type": "markdown",
   "metadata": {},
   "source": [
    "Если в операции участвуют $2$ массива (по умолчанию -- одинакового размера), операции считаются для соответствующих пар:"
   ]
  },
  {
   "cell_type": "code",
   "execution_count": 62,
   "metadata": {},
   "outputs": [
    {
     "name": "stdout",
     "output_type": "stream",
     "text": [
      "a + b = [ 4.1  6.2 18.3 13.4 18.5]\n",
      "a * b = [0.4 1.2 5.4 5.2 9. ]\n"
     ]
    }
   ],
   "source": [
    "print(\"a + b =\", a + b)\n",
    "print(\"a * b =\", a * b)"
   ]
  },
  {
   "cell_type": "code",
   "execution_count": 63,
   "metadata": {
    "jupyter": {
     "outputs_hidden": true
    }
   },
   "outputs": [
    {
     "name": "stdout",
     "output_type": "stream",
     "text": [
      "a - b = [ 3.9  5.8 17.7 12.6 17.5]\n",
      "a / b = [40.  30.  60.  32.5 36. ]\n",
      "a // b = [39. 29. 60. 32. 36.]\n",
      "a ** 2 = [ 16  36 324 169 324]\n"
     ]
    }
   ],
   "source": [
    "# вот это разность\n",
    "print(\"a - b =\", a - b)\n",
    "\n",
    "# вот это деление\n",
    "print(\"a / b =\", a / b)\n",
    "\n",
    "# вот это целочисленное деление\n",
    "print(\"a // b =\", a // b)\n",
    "\n",
    "# вот это квадрат\n",
    "print(\"a ** 2 =\", a ** 2)"
   ]
  },
  {
   "cell_type": "markdown",
   "metadata": {},
   "source": [
    " Создайте два массива одинаковой длины. Выведите массив, полученный делением одного массива на другой."
   ]
  },
  {
   "cell_type": "code",
   "execution_count": 64,
   "metadata": {
    "jupyter": {
     "outputs_hidden": true
    }
   },
   "outputs": [
    {
     "name": "stdout",
     "output_type": "stream",
     "text": [
      "[14 62 96 60 33]\n",
      "[11 15 13 11  7]\n",
      "[1.27272727 4.13333333 7.38461538 5.45454545 4.71428571]\n"
     ]
    }
   ],
   "source": [
    "a = np.random.randint(100, size=5)\n",
    "print(a)\n",
    "b = np.random.randint(20, size=5)\n",
    "print(b)\n",
    "print(a/b)"
   ]
  },
  {
   "cell_type": "markdown",
   "metadata": {},
   "source": [
    "#### *Л — логика*\n",
    "К элементам массива можно применять логические операции.\n",
    "\n",
    "Возвращаемое значение -- массив, содержащий результаты вычислений для каждого элемента (`True` -- \"да\" или `False` -- \"нет\"):"
   ]
  },
  {
   "cell_type": "code",
   "execution_count": 65,
   "metadata": {},
   "outputs": [
    {
     "name": "stdout",
     "output_type": "stream",
     "text": [
      "a = [14 62 96 60 33]\n",
      "\ta > 1:  [ True  True  True  True  True]\n",
      "\n",
      "b = [11 15 13 11  7]\n",
      "\tb < 0.5:   [False False False False False]\n",
      "\n",
      "Одновременная проверка условий:\n",
      "\t(a > 1) & (b < 0.5):   [False False False False False]\n",
      "А вот это проверяет, что a > 1 ИЛИ b < 0.5:   [ True  True  True  True  True]\n"
     ]
    }
   ],
   "source": [
    "print(\"a =\", a)\n",
    "print(\"\\ta > 1: \", a > 1)\n",
    "print(\"\\nb =\", b)\n",
    "print(\"\\tb < 0.5:  \", b < 0.5)\n",
    "\n",
    "print(\"\\nОдновременная проверка условий:\")\n",
    "print(\"\\t(a > 1) & (b < 0.5):  \", (a>1) & (b < 0.5))\n",
    "print(\"А вот это проверяет, что a > 1 ИЛИ b < 0.5:  \", (a > 1) | (b < 0.5))"
   ]
  },
  {
   "cell_type": "markdown",
   "metadata": {},
   "source": [
    "Создайте 2 массива из 5 элементов. Проверьте условие \"Элементы первого массива меньше 6, элементы второго массива делятся на 3\""
   ]
  },
  {
   "cell_type": "code",
   "execution_count": 66,
   "metadata": {
    "jupyter": {
     "outputs_hidden": true
    }
   },
   "outputs": [
    {
     "name": "stdout",
     "output_type": "stream",
     "text": [
      "[60 10 82 38 95]\n",
      "[3 2 0 3 3]\n",
      "[False False False False False]\n",
      "[ True False  True  True  True]\n"
     ]
    }
   ],
   "source": [
    "a = np.random.randint(100, size=5)\n",
    "print(a)\n",
    "b = np.random.randint(20, size=5)\n",
    "print(b)\n",
    "\n",
    "print(a < 6)\n",
    "print(b % 3 == 0)"
   ]
  },
  {
   "cell_type": "markdown",
   "metadata": {},
   "source": [
    "Теперь проверьте условие \"Элементы первого массива делятся на 2 или элементы второго массива больше 2\""
   ]
  },
  {
   "cell_type": "code",
   "execution_count": 67,
   "metadata": {
    "jupyter": {
     "outputs_hidden": true
    }
   },
   "outputs": [
    {
     "name": "stdout",
     "output_type": "stream",
     "text": [
      "[ True  True  True  True  True]\n"
     ]
    }
   ],
   "source": [
    "print((a % 2 == 0)|(b > 2))"
   ]
  },
  {
   "cell_type": "markdown",
   "metadata": {},
   "source": [
    "Зачем это нужно? Чтобы выбирать элементы массива, удовлетворяющие какому-нибудь условию:"
   ]
  },
  {
   "cell_type": "code",
   "execution_count": 68,
   "metadata": {},
   "outputs": [
    {
     "name": "stdout",
     "output_type": "stream",
     "text": [
      "a = [60 10 82 38 95]\n",
      "a > 2: [ True  True  True  True  True]\n",
      "a[a > 2]: [60 10 82 38 95]\n"
     ]
    }
   ],
   "source": [
    "print(\"a =\", a)\n",
    "print(\"a > 2:\", a > 2)\n",
    "# индексация - выбираем элементы из массива в тех позициях, где True\n",
    "print(\"a[a > 2]:\", a[a > 2])"
   ]
  },
  {
   "cell_type": "markdown",
   "metadata": {},
   "source": [
    "Создайте массив с элементами от 1 до 20. Выведите все элементы, которые больше 5 и не делятся на 2"
   ]
  },
  {
   "cell_type": "markdown",
   "metadata": {},
   "source": [
    "Подсказка: создать массив можно с помощью функции np.arange(), действие которой аналогично функции range, которую вы уже знаете."
   ]
  },
  {
   "cell_type": "code",
   "execution_count": 69,
   "metadata": {
    "jupyter": {
     "outputs_hidden": true
    }
   },
   "outputs": [
    {
     "name": "stdout",
     "output_type": "stream",
     "text": [
      "[ 1  2  3  4  5  6  7  8  9 10 11 12 13 14 15 16 17 18 19 20]\n",
      "[ 7  9 11 13 15 17 19]\n"
     ]
    }
   ],
   "source": [
    "с = np.arange(1,21)\n",
    "print(с)\n",
    "print(с[(с > 5) & (с % 2 != 0)])"
   ]
  },
  {
   "cell_type": "markdown",
   "metadata": {},
   "source": [
    "#### А ещё NumPy умеет...\n",
    "\n",
    "Все операции NumPy оптимизированы для быстрых вычислений над целыми массивами чисел и в методах `np.array` реализовано множество функций, которые могут вам понадобиться:"
   ]
  },
  {
   "cell_type": "code",
   "execution_count": 70,
   "metadata": {},
   "outputs": [
    {
     "name": "stdout",
     "output_type": "stream",
     "text": [
      "np.mean(a) = 57.0\n",
      "np.min(a) = 10\n",
      "np.argmin(a) = 1\n",
      "np.unique(['male', 'male', 'female', 'female', 'male']) = ['female' 'male']\n"
     ]
    }
   ],
   "source": [
    "# теперь можно считать средний размер котиков в одну строку!\n",
    "print(\"np.mean(a) =\", np.mean(a))\n",
    "# минимальный элемент\n",
    "print(\"np.min(a) =\", np.min(a))\n",
    "# индекс минимального элемента\n",
    "print(\"np.argmin(a) =\", np.argmin(a))\n",
    "# вывести значения массива без дубликатов\n",
    "print(\"np.unique(['male', 'male', 'female', 'female', 'male']) =\", np.unique(['male', 'male', 'female', 'female', 'male']))\n",
    "\n",
    "# и ещё много всяких методов\n",
    "# Google в помощь"
   ]
  },
  {
   "cell_type": "markdown",
   "metadata": {},
   "source": [
    "---\n",
    "\n",
    "---\n",
    "\n",
    "Пора еще немного потренироваться с NumPy.\n",
    "\n",
    "Выполните операции, перечисленные ниже:"
   ]
  },
  {
   "cell_type": "code",
   "execution_count": 71,
   "metadata": {
    "jupyter": {
     "outputs_hidden": true
    }
   },
   "outputs": [
    {
     "name": "stdout",
     "output_type": "stream",
     "text": [
      "Разность между a и b: [57  8 82 35 92]\n",
      "Квадраты элементов b: [9 4 0 9 9]\n",
      "Половины произведений элементов массивов a и b: [180  20   0 114 285]\n",
      "\n",
      "Максимальный элемент b: 3\n",
      "Сумма элементов массива b: 11\n",
      "Индекс максимального элемента b: 0\n"
     ]
    }
   ],
   "source": [
    "print(\"Разность между a и b:\",  a - b\n",
    "     )\n",
    "print(\"Квадраты элементов b:\", b ** 2\n",
    "     )\n",
    "print(\"Половины произведений элементов массивов a и b:\", a * b\n",
    "     )\n",
    "\n",
    "print()\n",
    "print(\"Максимальный элемент b:\", np.max(b)\n",
    "     )\n",
    "print(\"Сумма элементов массива b:\", np.sum(b)\n",
    "     )\n",
    "print(\"Индекс максимального элемента b:\", np.argmax(b)\n",
    "     )"
   ]
  },
  {
   "cell_type": "markdown",
   "metadata": {},
   "source": [
    " Задайте два массива: [5, 2, 3, 12, 4, 5]   и   ['f', 'o', 'o', 'b', 'a', 'r']"
   ]
  },
  {
   "cell_type": "markdown",
   "metadata": {},
   "source": [
    "Выведите буквы из второго массива, индексы которых соответствуют индексам чисел из первого массива, которые больше 1, меньше 5 и делятся на 2"
   ]
  },
  {
   "cell_type": "code",
   "execution_count": 87,
   "metadata": {},
   "outputs": [
    {
     "name": "stdout",
     "output_type": "stream",
     "text": [
      "['o' 'a']\n"
     ]
    }
   ],
   "source": [
    "num = np.array([5, 2, 3, 12, 4, 5])\n",
    "let = np.array(['f', 'o', 'o', 'b', 'a', 'r'])\n",
    "print(let[np.where ((num > 1) & (num < 5) & (num % 2 == 0))])"
   ]
  }
 ],
 "metadata": {
  "kernelspec": {
   "display_name": "Python 3 (ipykernel)",
   "language": "python",
   "name": "python3"
  },
  "language_info": {
   "codemirror_mode": {
    "name": "ipython",
    "version": 3
   },
   "file_extension": ".py",
   "mimetype": "text/x-python",
   "name": "python",
   "nbconvert_exporter": "python",
   "pygments_lexer": "ipython3",
   "version": "3.9.13"
  },
  "name": "seminar1_python_intro_tools.ipynb"
 },
 "nbformat": 4,
 "nbformat_minor": 4
}
