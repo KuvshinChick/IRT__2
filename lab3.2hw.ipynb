{
 "cells": [
  {
   "cell_type": "markdown",
   "metadata": {},
   "source": [
    "# Лабораторная работа 3.2. Домашнее задание"
   ]
  },
  {
   "cell_type": "markdown",
   "metadata": {},
   "source": [
    "### Задание №1"
   ]
  },
  {
   "cell_type": "markdown",
   "metadata": {},
   "source": [
    "Создайте два массива: в первом должны быть четные числа от 2 до 12 включительно, а в другом числа 7, 11, 15, 18, 23, 29."
   ]
  },
  {
   "cell_type": "markdown",
   "metadata": {},
   "source": [
    "$1.$ Сложите массивы и возведите элементы получившегося массива в квадрат:"
   ]
  },
  {
   "cell_type": "code",
   "execution_count": 4,
   "metadata": {
    "jupyter": {
     "outputs_hidden": true
    }
   },
   "outputs": [
    {
     "name": "stdout",
     "output_type": "stream",
     "text": [
      "[ 2  4  6  8 10 12]\n",
      "[ 7 11 15 18 23 29]\n",
      "[  81  225  441  676 1089 1681]\n"
     ]
    }
   ],
   "source": [
    "import numpy as np\n",
    "\n",
    "a = np.arange(1,7) * 2\n",
    "print(a)\n",
    "b = np.array([7, 11, 15, 18, 23, 29])\n",
    "print(b)\n",
    "print((a + b) ** 2)"
   ]
  },
  {
   "cell_type": "markdown",
   "metadata": {},
   "source": [
    "$2.$ Выведите все элементы из первого массива, индексы которых соответствуют индексам тех элементов второго массива, которые больше 12 и дают остаток 3 при делении на 5."
   ]
  },
  {
   "cell_type": "code",
   "execution_count": 12,
   "metadata": {
    "jupyter": {
     "outputs_hidden": true
    }
   },
   "outputs": [
    {
     "name": "stdout",
     "output_type": "stream",
     "text": [
      "[ 8 10]\n",
      "[False  True False False False False]\n"
     ]
    }
   ],
   "source": [
    "print(a[np.logical_and(b > 12, b % 5 == 3)])\n",
    "print((a % 4 == 0) & (b < 14))"
   ]
  },
  {
   "cell_type": "markdown",
   "metadata": {},
   "source": [
    "*3.* Проверьте условие \"Элементы первого массива делятся на 4, элементы второго массива меньше 14\". (Подсказка: в результате должен получиться массив с True и False)"
   ]
  },
  {
   "cell_type": "markdown",
   "metadata": {},
   "source": [
    "### Задание №2"
   ]
  },
  {
   "cell_type": "markdown",
   "metadata": {},
   "source": [
    "* Найдите интересный для вас датасет. Например, можно выбрать датасет тут. http://data.un.org/Explorer.aspx (выбираете датасет, жмете на view data, потом download, выбирайте csv формат)\n",
    "* Рассчитайте подходящие описательные статистики для признаков объектов в выбранном датасете\n",
    "* Проанализируйте и прокомментируйте содержательно получившиеся результаты\n",
    "* Все комментарии оформляйте строго в ячейках формата markdown\n",
    "    "
   ]
  },
  {
   "cell_type": "markdown",
   "metadata": {
    "collapsed": true,
    "jupyter": {
     "outputs_hidden": true
    }
   },
   "source": [
    "https://www.kaggle.com/datasets/themrityunjaypathak/tesla-stock-price-2005-2023\n",
    "Цена акций Tesla [2005-2023]"
   ]
  },
  {
   "cell_type": "code",
   "execution_count": 18,
   "metadata": {},
   "outputs": [
    {
     "name": "stdout",
     "output_type": "stream",
     "text": [
      "Средняя цена акций 59.68772498426684, Средняя цена акций из максимальных: 61.02593769666456\n",
      "Среднее отклонение цен 95.57366675624947, среднее отклонение цен из максимальных: 97.80466634694456\n",
      "Медиана цен  16.325, медиана максимальных цен: 16.56\n",
      "Дисперсия цен 9134.325777234624, дисперсия максимальных цен: 9565.75275923715\n"
     ]
    }
   ],
   "source": [
    "import csv\n",
    "import numpy as np\n",
    "\n",
    "\n",
    "# Открытие файла только для чтения\n",
    "with open('Tesla_stock_Price.csv', 'r', newline='', encoding='utf-8') as csvfile:\n",
    "    reader = csv.reader(csvfile, delimiter=',')\n",
    "    # Списки\n",
    "    Price  = []\n",
    "    High_price = []\n",
    "    # Пропуск заголовка\n",
    "    next(reader)\n",
    "    # Заполнение списков\n",
    "    for row in reader:\n",
    "        if row[3] != '':\n",
    "            Price.append(float(row[1]))\n",
    "            High_price.append(float(row[3]))\n",
    "    Price = np.array(Price)\n",
    "    High_price = np.array(High_price)\n",
    "    print(f\"Средняя цена акций {np.mean(Price)}, Средняя цена акций из максимальных: {np.mean(High_price)}\" )\n",
    "    print(f\"Среднее отклонение цен {np.std(Price)}, среднее отклонение цен из максимальных: {np.std(High_price)}\" )\n",
    "    print(f\"Медиана цен  {np.median(Price)}, медиана максимальных цен: {np.median(High_price)}\" )\n",
    "    print(f\"Дисперсия цен {np.var(Price)}, дисперсия максимальных цен: {np.var(High_price)}\" )"
   ]
  }
 ],
 "metadata": {
  "kernelspec": {
   "display_name": "Python 3 (ipykernel)",
   "language": "python",
   "name": "python3"
  },
  "language_info": {
   "codemirror_mode": {
    "name": "ipython",
    "version": 3
   },
   "file_extension": ".py",
   "mimetype": "text/x-python",
   "name": "python",
   "nbconvert_exporter": "python",
   "pygments_lexer": "ipython3",
   "version": "3.9.13"
  }
 },
 "nbformat": 4,
 "nbformat_minor": 4
}
